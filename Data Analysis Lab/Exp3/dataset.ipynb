{
 "cells": [
  {
   "cell_type": "markdown",
   "id": "ab4344f8-e470-44ef-aef8-a66a28fbdf14",
   "metadata": {},
   "source": [
    "# Academic Performance"
   ]
  },
  {
   "cell_type": "code",
   "execution_count": 41,
   "id": "d1a7d09c-814a-470a-beb6-529540596993",
   "metadata": {},
   "outputs": [],
   "source": [
    "import pandas as pd\n",
    "import numpy as np\n",
    "import seaborn as sn\n",
    "import matplotlib.pyplot as plt"
   ]
  },
  {
   "cell_type": "code",
   "execution_count": 42,
   "id": "aae3c9a7-ef37-467e-b772-18a66c94dd3b",
   "metadata": {},
   "outputs": [
    {
     "data": {
      "text/html": [
       "<div>\n",
       "<style scoped>\n",
       "    .dataframe tbody tr th:only-of-type {\n",
       "        vertical-align: middle;\n",
       "    }\n",
       "\n",
       "    .dataframe tbody tr th {\n",
       "        vertical-align: top;\n",
       "    }\n",
       "\n",
       "    .dataframe thead th {\n",
       "        text-align: right;\n",
       "    }\n",
       "</style>\n",
       "<table border=\"1\" class=\"dataframe\">\n",
       "  <thead>\n",
       "    <tr style=\"text-align: right;\">\n",
       "      <th></th>\n",
       "      <th>student_id</th>\n",
       "      <th>gender</th>\n",
       "      <th>age</th>\n",
       "      <th>grade</th>\n",
       "      <th>ethnicity</th>\n",
       "      <th>math_score</th>\n",
       "      <th>english_score</th>\n",
       "      <th>science_score</th>\n",
       "      <th>history_score</th>\n",
       "    </tr>\n",
       "  </thead>\n",
       "  <tbody>\n",
       "    <tr>\n",
       "      <th>0</th>\n",
       "      <td>1</td>\n",
       "      <td>Male</td>\n",
       "      <td>15</td>\n",
       "      <td>10</td>\n",
       "      <td>African American</td>\n",
       "      <td>85.0</td>\n",
       "      <td>78.0</td>\n",
       "      <td>82.0</td>\n",
       "      <td>88.0</td>\n",
       "    </tr>\n",
       "    <tr>\n",
       "      <th>1</th>\n",
       "      <td>2</td>\n",
       "      <td>Female</td>\n",
       "      <td>16</td>\n",
       "      <td>11</td>\n",
       "      <td>Asian</td>\n",
       "      <td>90.0</td>\n",
       "      <td>85.0</td>\n",
       "      <td>88.0</td>\n",
       "      <td>92.0</td>\n",
       "    </tr>\n",
       "    <tr>\n",
       "      <th>2</th>\n",
       "      <td>3</td>\n",
       "      <td>Male</td>\n",
       "      <td>15</td>\n",
       "      <td>10</td>\n",
       "      <td>Hispanic</td>\n",
       "      <td>75.0</td>\n",
       "      <td>80.0</td>\n",
       "      <td>78.0</td>\n",
       "      <td>76.0</td>\n",
       "    </tr>\n",
       "    <tr>\n",
       "      <th>3</th>\n",
       "      <td>4</td>\n",
       "      <td>Female</td>\n",
       "      <td>16</td>\n",
       "      <td>11</td>\n",
       "      <td>Caucasian</td>\n",
       "      <td>92.0</td>\n",
       "      <td>88.0</td>\n",
       "      <td>90.0</td>\n",
       "      <td>94.0</td>\n",
       "    </tr>\n",
       "    <tr>\n",
       "      <th>4</th>\n",
       "      <td>5</td>\n",
       "      <td>Female</td>\n",
       "      <td>17</td>\n",
       "      <td>12</td>\n",
       "      <td>Asian</td>\n",
       "      <td>88.0</td>\n",
       "      <td>NaN</td>\n",
       "      <td>85.0</td>\n",
       "      <td>89.0</td>\n",
       "    </tr>\n",
       "    <tr>\n",
       "      <th>...</th>\n",
       "      <td>...</td>\n",
       "      <td>...</td>\n",
       "      <td>...</td>\n",
       "      <td>...</td>\n",
       "      <td>...</td>\n",
       "      <td>...</td>\n",
       "      <td>...</td>\n",
       "      <td>...</td>\n",
       "      <td>...</td>\n",
       "    </tr>\n",
       "    <tr>\n",
       "      <th>95</th>\n",
       "      <td>96</td>\n",
       "      <td>Female</td>\n",
       "      <td>15</td>\n",
       "      <td>10</td>\n",
       "      <td>African American</td>\n",
       "      <td>83.0</td>\n",
       "      <td>79.0</td>\n",
       "      <td>81.0</td>\n",
       "      <td>85.0</td>\n",
       "    </tr>\n",
       "    <tr>\n",
       "      <th>96</th>\n",
       "      <td>97</td>\n",
       "      <td>Male</td>\n",
       "      <td>17</td>\n",
       "      <td>12</td>\n",
       "      <td>Asian</td>\n",
       "      <td>89.0</td>\n",
       "      <td>91.0</td>\n",
       "      <td>86.0</td>\n",
       "      <td>NaN</td>\n",
       "    </tr>\n",
       "    <tr>\n",
       "      <th>97</th>\n",
       "      <td>98</td>\n",
       "      <td>Female</td>\n",
       "      <td>16</td>\n",
       "      <td>11</td>\n",
       "      <td>Caucasian</td>\n",
       "      <td>81.0</td>\n",
       "      <td>76.0</td>\n",
       "      <td>79.0</td>\n",
       "      <td>83.0</td>\n",
       "    </tr>\n",
       "    <tr>\n",
       "      <th>98</th>\n",
       "      <td>99</td>\n",
       "      <td>Male</td>\n",
       "      <td>15</td>\n",
       "      <td>10</td>\n",
       "      <td>Hispanic</td>\n",
       "      <td>73.0</td>\n",
       "      <td>NaN</td>\n",
       "      <td>71.0</td>\n",
       "      <td>69.0</td>\n",
       "    </tr>\n",
       "    <tr>\n",
       "      <th>99</th>\n",
       "      <td>100</td>\n",
       "      <td>Female</td>\n",
       "      <td>17</td>\n",
       "      <td>12</td>\n",
       "      <td>African American</td>\n",
       "      <td>86.0</td>\n",
       "      <td>83.0</td>\n",
       "      <td>89.0</td>\n",
       "      <td>85.0</td>\n",
       "    </tr>\n",
       "  </tbody>\n",
       "</table>\n",
       "<p>100 rows × 9 columns</p>\n",
       "</div>"
      ],
      "text/plain": [
       "    student_id  gender  age  grade         ethnicity  math_score  \\\n",
       "0            1    Male   15     10  African American        85.0   \n",
       "1            2  Female   16     11             Asian        90.0   \n",
       "2            3    Male   15     10          Hispanic        75.0   \n",
       "3            4  Female   16     11         Caucasian        92.0   \n",
       "4            5  Female   17     12             Asian        88.0   \n",
       "..         ...     ...  ...    ...               ...         ...   \n",
       "95          96  Female   15     10  African American        83.0   \n",
       "96          97    Male   17     12             Asian        89.0   \n",
       "97          98  Female   16     11         Caucasian        81.0   \n",
       "98          99    Male   15     10          Hispanic        73.0   \n",
       "99         100  Female   17     12  African American        86.0   \n",
       "\n",
       "    english_score  science_score  history_score  \n",
       "0            78.0           82.0           88.0  \n",
       "1            85.0           88.0           92.0  \n",
       "2            80.0           78.0           76.0  \n",
       "3            88.0           90.0           94.0  \n",
       "4             NaN           85.0           89.0  \n",
       "..            ...            ...            ...  \n",
       "95           79.0           81.0           85.0  \n",
       "96           91.0           86.0            NaN  \n",
       "97           76.0           79.0           83.0  \n",
       "98            NaN           71.0           69.0  \n",
       "99           83.0           89.0           85.0  \n",
       "\n",
       "[100 rows x 9 columns]"
      ]
     },
     "metadata": {},
     "output_type": "display_data"
    }
   ],
   "source": [
    "df=pd.read_csv('Academic-Performance.csv')\n",
    "display(df)"
   ]
  },
  {
   "cell_type": "markdown",
   "id": "df8a90bf-f129-45a4-a695-5390d907d9ff",
   "metadata": {},
   "source": [
    "## Whether Null values present or not:"
   ]
  },
  {
   "cell_type": "code",
   "execution_count": 44,
   "id": "d175eddb-af3f-4b23-9f29-d5ed62a0e200",
   "metadata": {},
   "outputs": [
    {
     "data": {
      "text/plain": [
       "True"
      ]
     },
     "execution_count": 44,
     "metadata": {},
     "output_type": "execute_result"
    }
   ],
   "source": [
    "df.isnull().values.any()"
   ]
  },
  {
   "cell_type": "markdown",
   "id": "416d88e2-5872-4f66-98a0-b98acbbb4046",
   "metadata": {},
   "source": [
    "## Total number of null values in each column:"
   ]
  },
  {
   "cell_type": "code",
   "execution_count": 45,
   "id": "b4a904d6-d127-4540-8c11-ca4624de4bb4",
   "metadata": {},
   "outputs": [
    {
     "data": {
      "text/plain": [
       "student_id       0\n",
       "gender           0\n",
       "age              0\n",
       "grade            0\n",
       "ethnicity        0\n",
       "math_score       6\n",
       "english_score    7\n",
       "science_score    7\n",
       "history_score    3\n",
       "dtype: int64"
      ]
     },
     "execution_count": 45,
     "metadata": {},
     "output_type": "execute_result"
    }
   ],
   "source": [
    "df.isnull().sum()"
   ]
  },
  {
   "cell_type": "markdown",
   "id": "bac0ef1b-2940-49a8-8577-976ff78ebc0e",
   "metadata": {},
   "source": [
    "## Replacing null values in \"math_score\" column by median:"
   ]
  },
  {
   "cell_type": "code",
   "execution_count": 46,
   "id": "6c2ef63a-1dbc-43f1-ba61-7e84265df317",
   "metadata": {},
   "outputs": [
    {
     "data": {
      "text/plain": [
       "True"
      ]
     },
     "execution_count": 46,
     "metadata": {},
     "output_type": "execute_result"
    }
   ],
   "source": [
    "df['math_score'].isnull().values.any()"
   ]
  },
  {
   "cell_type": "code",
   "execution_count": 47,
   "id": "c4c174ff-7018-43dc-a804-417d6ba5a4bc",
   "metadata": {},
   "outputs": [
    {
     "data": {
      "text/plain": [
       "False"
      ]
     },
     "execution_count": 47,
     "metadata": {},
     "output_type": "execute_result"
    }
   ],
   "source": [
    "median1 = df['math_score'].median()\n",
    "df['math_score'].fillna(median1, inplace = True)\n",
    "df['math_score'].isnull().values.any()"
   ]
  },
  {
   "cell_type": "markdown",
   "id": "7bc82324-cf82-4bec-9183-e52076491921",
   "metadata": {},
   "source": [
    "## Replacing null values in \"English_score\" column by median:"
   ]
  },
  {
   "cell_type": "code",
   "execution_count": 48,
   "id": "10d3e301-65fb-43d4-9ee7-7350b165d341",
   "metadata": {},
   "outputs": [
    {
     "data": {
      "text/plain": [
       "True"
      ]
     },
     "execution_count": 48,
     "metadata": {},
     "output_type": "execute_result"
    }
   ],
   "source": [
    "df['english_score'].isnull().values.any()"
   ]
  },
  {
   "cell_type": "code",
   "execution_count": 49,
   "id": "26ad858a-6e4d-49f5-ad8d-cbd1d18c2da9",
   "metadata": {},
   "outputs": [
    {
     "data": {
      "text/plain": [
       "False"
      ]
     },
     "execution_count": 49,
     "metadata": {},
     "output_type": "execute_result"
    }
   ],
   "source": [
    "median2 = df['english_score'].median()\n",
    "df['english_score'].fillna(median2, inplace = True)\n",
    "df['english_score'].isnull().values.any()"
   ]
  },
  {
   "cell_type": "markdown",
   "id": "48925604-4c64-4264-a7d8-8acaf7407faf",
   "metadata": {},
   "source": [
    "## Replacing null values in \"science_score\" column using interpolate function:"
   ]
  },
  {
   "cell_type": "code",
   "execution_count": 50,
   "id": "79d68a30-7cf9-4cf4-a74a-6cd9d94aec95",
   "metadata": {},
   "outputs": [
    {
     "data": {
      "text/plain": [
       "False"
      ]
     },
     "execution_count": 50,
     "metadata": {},
     "output_type": "execute_result"
    }
   ],
   "source": [
    "df['science_score'] = df['science_score'].interpolate()\n",
    "df['science_score'].isnull().values.any()"
   ]
  },
  {
   "cell_type": "markdown",
   "id": "13eb08c0-3714-402c-ac39-b4bf1381cec7",
   "metadata": {},
   "source": [
    "## Droping rows with missing values:"
   ]
  },
  {
   "cell_type": "code",
   "execution_count": 51,
   "id": "3255e3b8-4a7d-4498-96a0-dde81b702996",
   "metadata": {},
   "outputs": [
    {
     "data": {
      "text/plain": [
       "student_id       0\n",
       "gender           0\n",
       "age              0\n",
       "grade            0\n",
       "ethnicity        0\n",
       "math_score       0\n",
       "english_score    0\n",
       "science_score    0\n",
       "history_score    0\n",
       "dtype: int64"
      ]
     },
     "execution_count": 51,
     "metadata": {},
     "output_type": "execute_result"
    }
   ],
   "source": [
    "df.dropna(subset = ['history_score']).isnull().sum()"
   ]
  },
  {
   "cell_type": "markdown",
   "id": "3aa61915-757e-46f4-ad1b-beb09210eab3",
   "metadata": {},
   "source": [
    "## Outliers using Boxplot and Scatterplot:"
   ]
  },
  {
   "cell_type": "code",
   "execution_count": 53,
   "id": "6c9926ab-dc98-4fa7-aeb0-e18de6f798cc",
   "metadata": {},
   "outputs": [
    {
     "data": {
      "image/png": "[encoded data removed]",
      "text/plain": [
       "<Figure size 640x480 with 1 Axes>"
      ]
     },
     "metadata": {},
     "output_type": "display_data"
    }
   ],
   "source": [
    "df_cleaned = df.dropna(subset=['math_score'])\n",
    "plt.boxplot(df_cleaned['math_score'], vert =\n",
    "False)\n",
    "plt.title('Boxplot of math score')\n",
    "plt.ylabel('Score')\n",
    "plt.grid(True)\n",
    "plt.show()"
   ]
  },
  {
   "cell_type": "code",
   "execution_count": 54,
   "id": "9b27be14-aff1-40e4-b437-18e0d4d603fb",
   "metadata": {},
   "outputs": [
    {
     "data": {
      "image/png": "[encoded data removed]",
      "text/plain": [
       "<Figure size 640x480 with 1 Axes>"
      ]
     },
     "metadata": {},
     "output_type": "display_data"
    }
   ],
   "source": [
    "df_cleaned = df.dropna(subset=['math_score'])\n",
    "sn.scatterplot(df_cleaned['math_score'])\n",
    "plt.title('Scatterplot of math_score')\n",
    "plt.ylabel('Score')\n",
    "plt.grid(True)\n",
    "plt.show()"
   ]
  },
  {
   "cell_type": "markdown",
   "id": "3c16601d-7e2b-4326-8eff-3d1172378500",
   "metadata": {},
   "source": [
    "## Replacing values outside the calculated range with the mean"
   ]
  },
  {
   "cell_type": "code",
   "execution_count": 55,
   "id": "ad353cdf-ca4d-4783-b86f-959947fab4c5",
   "metadata": {},
   "outputs": [
    {
     "name": "stdout",
     "output_type": "stream",
     "text": [
      "Left range: 64.0\n",
      "Right range: 104.0\n"
     ]
    }
   ],
   "source": [
    "df_cleaned = df.dropna(subset=['math_score'])\n",
    "Q1 = df_cleaned['math_score'].quantile(0.25)\n",
    "Q3 = df_cleaned['math_score'].quantile(0.75)\n",
    "IQR = Q3 - Q1\n",
    "l_range = Q1 - (1.5 * IQR)\n",
    "r_range = Q3 + (1.5 * IQR)\n",
    "print(\"Left range:\", l_range)\n",
    "print(\"Right range:\", r_range)\n",
    "mean = df_cleaned['math_score'].mean()\n",
    "df.loc[(df['math_score'] > r_range) &\n",
    "(df['math_score'] < l_range), 'math_score'] = mean"
   ]
  },
  {
   "cell_type": "code",
   "execution_count": 57,
   "id": "927ef215-d89d-4f98-9fed-8d3e3f8cc38b",
   "metadata": {},
   "outputs": [
    {
     "data": {
      "image/png": "[encoded data removed]",
      "text/plain": [
       "<Figure size 640x480 with 1 Axes>"
      ]
     },
     "metadata": {},
     "output_type": "display_data"
    }
   ],
   "source": [
    "df_cleaned = df.dropna(subset=['math_score'])\n",
    "sn.scatterplot(df_cleaned['math_score'])\n",
    "plt.title('Scatterplot of math_score')\n",
    "plt.ylabel('Score')\n",
    "plt.grid(True)\n",
    "plt.show()"
   ]
  },
  {
   "cell_type": "code",
   "execution_count": 58,
   "id": "e52e0d15-8a96-40fc-8f21-bd900184f3c7",
   "metadata": {
    "scrolled": true
   },
   "outputs": [
    {
     "name": "stdout",
     "output_type": "stream",
     "text": [
      "<class 'pandas.core.frame.DataFrame'>\n",
      "RangeIndex: 100 entries, 0 to 99\n",
      "Data columns (total 9 columns):\n",
      " #   Column         Non-Null Count  Dtype  \n",
      "---  ------         --------------  -----  \n",
      " 0   student_id     100 non-null    int64  \n",
      " 1   gender         100 non-null    object \n",
      " 2   age            100 non-null    int64  \n",
      " 3   grade          100 non-null    int64  \n",
      " 4   ethnicity      100 non-null    object \n",
      " 5   math_score     100 non-null    float64\n",
      " 6   english_score  100 non-null    float64\n",
      " 7   science_score  100 non-null    float64\n",
      " 8   history_score  97 non-null     float64\n",
      "dtypes: float64(4), int64(3), object(2)\n",
      "memory usage: 7.2+ KB\n"
     ]
    }
   ],
   "source": [
    "df.info()"
   ]
  },
  {
   "cell_type": "markdown",
   "id": "710a785e-2077-42b1-9eff-ffd0d1f52495",
   "metadata": {},
   "source": [
    "## Data Transformation:"
   ]
  },
  {
   "cell_type": "code",
   "execution_count": 59,
   "id": "31133077-13b7-4357-8f57-8751e4634da3",
   "metadata": {},
   "outputs": [
    {
     "data": {
      "image/png": "[encoded data removed]",
      "text/plain": [
       "<Figure size 640x480 with 1 Axes>"
      ]
     },
     "metadata": {},
     "output_type": "display_data"
    }
   ],
   "source": [
    "df['math_score'].hist()\n",
    "plt.xlabel('math_score')\n",
    "plt.ylabel('Number of students')\n",
    "plt.show()"
   ]
  },
  {
   "cell_type": "code",
   "execution_count": null,
   "id": "d3ead3bd-fe8a-43c7-9552-abd5c1851100",
   "metadata": {},
   "outputs": [],
   "source": []
  }
 ],
 "metadata": {
  "kernelspec": {
   "display_name": "Python 3 (ipykernel)",
   "language": "python",
   "name": "python3"
  },
  "language_info": {
   "codemirror_mode": {
    "name": "ipython",
    "version": 3
   },
   "file_extension": ".py",
   "mimetype": "text/x-python",
   "name": "python",
   "nbconvert_exporter": "python",
   "pygments_lexer": "ipython3",
   "version": "3.10.11"
  }
 },
 "nbformat": 4,
 "nbformat_minor": 5
}
