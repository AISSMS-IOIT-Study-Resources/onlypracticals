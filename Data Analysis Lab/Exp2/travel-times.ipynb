{
 "cells": [
  {
   "cell_type": "code",
   "execution_count": 1,
   "id": "0ecbcfc8-ca50-4f41-8e49-1c3925cd525b",
   "metadata": {},
   "outputs": [],
   "source": [
    "import pandas as pd"
   ]
  },
  {
   "cell_type": "code",
   "execution_count": 17,
   "id": "c89911da-b215-49e2-9ba9-3ca968f09745",
   "metadata": {},
   "outputs": [],
   "source": [
    "df=pd.read_csv('travel-times.csv')"
   ]
  },
  {
   "cell_type": "code",
   "execution_count": 12,
   "id": "47d78a85-6522-4ee2-b7fa-e1711e7edb4e",
   "metadata": {},
   "outputs": [
    {
     "name": "stdout",
     "output_type": "stream",
     "text": [
      "<class 'pandas.core.frame.DataFrame'>\n",
      "RangeIndex: 205 entries, 0 to 204\n",
      "Data columns (total 13 columns):\n",
      " #   Column          Non-Null Count  Dtype  \n",
      "---  ------          --------------  -----  \n",
      " 0   Date            205 non-null    object \n",
      " 1   StartTime       205 non-null    object \n",
      " 2   DayOfWeek       205 non-null    object \n",
      " 3   GoingTo         205 non-null    object \n",
      " 4   Distance        205 non-null    float64\n",
      " 5   MaxSpeed        205 non-null    float64\n",
      " 6   AvgSpeed        205 non-null    float64\n",
      " 7   AvgMovingSpeed  205 non-null    float64\n",
      " 8   FuelEconomy     188 non-null    object \n",
      " 9   TotalTime       205 non-null    float64\n",
      " 10  MovingTime      205 non-null    float64\n",
      " 11  Take407All      205 non-null    object \n",
      " 12  Comments        24 non-null     object \n",
      "dtypes: float64(6), object(7)\n",
      "memory usage: 20.9+ KB\n"
     ]
    }
   ],
   "source": [
    "df.info()"
   ]
  },
  {
   "cell_type": "code",
   "execution_count": 13,
   "id": "9b834f3a-6131-4b18-bb03-7c24e805d26b",
   "metadata": {},
   "outputs": [
    {
     "data": {
      "text/html": [
       "<div>\n",
       "<style scoped>\n",
       "    .dataframe tbody tr th:only-of-type {\n",
       "        vertical-align: middle;\n",
       "    }\n",
       "\n",
       "    .dataframe tbody tr th {\n",
       "        vertical-align: top;\n",
       "    }\n",
       "\n",
       "    .dataframe thead th {\n",
       "        text-align: right;\n",
       "    }\n",
       "</style>\n",
       "<table border=\"1\" class=\"dataframe\">\n",
       "  <thead>\n",
       "    <tr style=\"text-align: right;\">\n",
       "      <th></th>\n",
       "      <th>Distance</th>\n",
       "      <th>MaxSpeed</th>\n",
       "      <th>AvgSpeed</th>\n",
       "      <th>AvgMovingSpeed</th>\n",
       "      <th>TotalTime</th>\n",
       "      <th>MovingTime</th>\n",
       "    </tr>\n",
       "  </thead>\n",
       "  <tbody>\n",
       "    <tr>\n",
       "      <th>count</th>\n",
       "      <td>205.000000</td>\n",
       "      <td>205.000000</td>\n",
       "      <td>205.000000</td>\n",
       "      <td>205.000000</td>\n",
       "      <td>205.000000</td>\n",
       "      <td>205.000000</td>\n",
       "    </tr>\n",
       "    <tr>\n",
       "      <th>mean</th>\n",
       "      <td>50.981512</td>\n",
       "      <td>127.591707</td>\n",
       "      <td>74.477561</td>\n",
       "      <td>81.975610</td>\n",
       "      <td>41.904390</td>\n",
       "      <td>37.871707</td>\n",
       "    </tr>\n",
       "    <tr>\n",
       "      <th>std</th>\n",
       "      <td>1.321205</td>\n",
       "      <td>4.128450</td>\n",
       "      <td>11.409816</td>\n",
       "      <td>10.111544</td>\n",
       "      <td>6.849476</td>\n",
       "      <td>4.835072</td>\n",
       "    </tr>\n",
       "    <tr>\n",
       "      <th>min</th>\n",
       "      <td>48.320000</td>\n",
       "      <td>112.200000</td>\n",
       "      <td>38.100000</td>\n",
       "      <td>50.300000</td>\n",
       "      <td>28.200000</td>\n",
       "      <td>27.100000</td>\n",
       "    </tr>\n",
       "    <tr>\n",
       "      <th>25%</th>\n",
       "      <td>50.650000</td>\n",
       "      <td>124.900000</td>\n",
       "      <td>68.900000</td>\n",
       "      <td>76.600000</td>\n",
       "      <td>38.400000</td>\n",
       "      <td>35.700000</td>\n",
       "    </tr>\n",
       "    <tr>\n",
       "      <th>50%</th>\n",
       "      <td>51.140000</td>\n",
       "      <td>127.400000</td>\n",
       "      <td>73.600000</td>\n",
       "      <td>81.400000</td>\n",
       "      <td>41.300000</td>\n",
       "      <td>37.600000</td>\n",
       "    </tr>\n",
       "    <tr>\n",
       "      <th>75%</th>\n",
       "      <td>51.630000</td>\n",
       "      <td>129.800000</td>\n",
       "      <td>79.900000</td>\n",
       "      <td>86.000000</td>\n",
       "      <td>44.400000</td>\n",
       "      <td>39.900000</td>\n",
       "    </tr>\n",
       "    <tr>\n",
       "      <th>max</th>\n",
       "      <td>60.320000</td>\n",
       "      <td>140.900000</td>\n",
       "      <td>107.700000</td>\n",
       "      <td>112.100000</td>\n",
       "      <td>82.300000</td>\n",
       "      <td>62.400000</td>\n",
       "    </tr>\n",
       "  </tbody>\n",
       "</table>\n",
       "</div>"
      ],
      "text/plain": [
       "         Distance    MaxSpeed    AvgSpeed  AvgMovingSpeed   TotalTime  \\\n",
       "count  205.000000  205.000000  205.000000      205.000000  205.000000   \n",
       "mean    50.981512  127.591707   74.477561       81.975610   41.904390   \n",
       "std      1.321205    4.128450   11.409816       10.111544    6.849476   \n",
       "min     48.320000  112.200000   38.100000       50.300000   28.200000   \n",
       "25%     50.650000  124.900000   68.900000       76.600000   38.400000   \n",
       "50%     51.140000  127.400000   73.600000       81.400000   41.300000   \n",
       "75%     51.630000  129.800000   79.900000       86.000000   44.400000   \n",
       "max     60.320000  140.900000  107.700000      112.100000   82.300000   \n",
       "\n",
       "       MovingTime  \n",
       "count  205.000000  \n",
       "mean    37.871707  \n",
       "std      4.835072  \n",
       "min     27.100000  \n",
       "25%     35.700000  \n",
       "50%     37.600000  \n",
       "75%     39.900000  \n",
       "max     62.400000  "
      ]
     },
     "execution_count": 13,
     "metadata": {},
     "output_type": "execute_result"
    }
   ],
   "source": [
    "df.describe()"
   ]
  },
  {
   "cell_type": "code",
   "execution_count": 16,
   "id": "94e8caa3-b3a9-44a4-9a93-42130b313679",
   "metadata": {},
   "outputs": [],
   "source": [
    "newdf = df.isnull()"
   ]
  },
  {
   "cell_type": "code",
   "execution_count": 19,
   "id": "2b756e16-be70-4d5d-8384-08126764824f",
   "metadata": {},
   "outputs": [
    {
     "name": "stdout",
     "output_type": "stream",
     "text": [
      "       Date StartTime  DayOfWeek GoingTo  Distance  MaxSpeed  AvgSpeed  \\\n",
      "0  1/6/2012     16:37     Friday    Home     51.29     127.4      78.3   \n",
      "1  1/6/2012     08:20     Friday     GSK     51.63     130.3      81.8   \n",
      "2  1/4/2012     16:17  Wednesday    Home     51.27     127.4      82.0   \n",
      "3  1/4/2012     07:53  Wednesday     GSK     49.17     132.3      74.2   \n",
      "4  1/3/2012     18:57    Tuesday    Home     51.15     136.2      83.4   \n",
      "\n",
      "   AvgMovingSpeed FuelEconomy  TotalTime  MovingTime Take407All Comments  \n",
      "0            84.8         NaN       39.3        36.3         No      NaN  \n",
      "1            88.9         NaN       37.9        34.9         No      NaN  \n",
      "2            85.8         NaN       37.5        35.9         No      NaN  \n",
      "3            82.9         NaN       39.8        35.6         No      NaN  \n",
      "4            88.1         NaN       36.8        34.8         No      NaN  \n",
      "         Distance    MaxSpeed    AvgSpeed  AvgMovingSpeed   TotalTime  \\\n",
      "count  205.000000  205.000000  205.000000      205.000000  205.000000   \n",
      "mean    50.981512  127.591707   74.477561       81.975610   41.904390   \n",
      "std      1.321205    4.128450   11.409816       10.111544    6.849476   \n",
      "min     48.320000  112.200000   38.100000       50.300000   28.200000   \n",
      "25%     50.650000  124.900000   68.900000       76.600000   38.400000   \n",
      "50%     51.140000  127.400000   73.600000       81.400000   41.300000   \n",
      "75%     51.630000  129.800000   79.900000       86.000000   44.400000   \n",
      "max     60.320000  140.900000  107.700000      112.100000   82.300000   \n",
      "\n",
      "       MovingTime  \n",
      "count  205.000000  \n",
      "mean    37.871707  \n",
      "std      4.835072  \n",
      "min     27.100000  \n",
      "25%     35.700000  \n",
      "50%     37.600000  \n",
      "75%     39.900000  \n",
      "max     62.400000  \n"
     ]
    }
   ],
   "source": [
    "print(df.head())\n",
    "print(df.describe())"
   ]
  },
  {
   "cell_type": "code",
   "execution_count": 21,
   "id": "9a437dde-b6a9-44c4-8d0c-56160b1d7ea6",
   "metadata": {},
   "outputs": [
    {
     "data": {
      "application/vnd.jupyter.widget-view+json": {
       "model_id": "cf57f7f3666c4acf9d01be674bf98c32",
       "version_major": 2,
       "version_minor": 0
      },
      "text/plain": [
       "                                             |                                             | [  0%]   00:00 ->…"
      ]
     },
     "metadata": {},
     "output_type": "display_data"
    },
    {
     "name": "stdout",
     "output_type": "stream",
     "text": [
      "Report sweet_travel-report.html was generated! NOTEBOOK/COLAB USERS: the web browser MAY not pop up, regardless, the report IS saved in your notebook/colab files.\n"
     ]
    }
   ],
   "source": [
    "import sweetviz as sv\n",
    "sweet_report=sv.analyze(df)\n",
    "sweet_report.show_html('sweet_travel-report.html')"
   ]
  },
  {
   "cell_type": "code",
   "execution_count": null,
   "id": "00c81c3f-5a28-46f5-bb79-fb0b40c5693e",
   "metadata": {},
   "outputs": [],
   "source": []
  }
 ],
 "metadata": {
  "kernelspec": {
   "display_name": "Python 3 (ipykernel)",
   "language": "python",
   "name": "python3"
  },
  "language_info": {
   "codemirror_mode": {
    "name": "ipython",
    "version": 3
   },
   "file_extension": ".py",
   "mimetype": "text/x-python",
   "name": "python",
   "nbconvert_exporter": "python",
   "pygments_lexer": "ipython3",
   "version": "3.10.11"
  }
 },
 "nbformat": 4,
 "nbformat_minor": 5
}
