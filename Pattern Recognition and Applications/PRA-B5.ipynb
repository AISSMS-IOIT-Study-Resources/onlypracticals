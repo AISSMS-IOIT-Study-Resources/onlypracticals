{
 "cells": [
  {
   "cell_type": "markdown",
   "id": "541aec19-d662-4932-8d78-78962a6e1950",
   "metadata": {},
   "source": [
    "# Parzen-Window Classification of Geometric Shapes"
   ]
  },
  {
   "cell_type": "code",
   "execution_count": 84,
   "id": "dd9a1838-f578-4f18-967e-b7ca2e0ee97d",
   "metadata": {},
   "outputs": [],
   "source": [
    "import cv2\n",
    "import numpy as np\n",
    "import matplotlib.pyplot as plt\n",
    "from sklearn.model_selection import train_test_split\n",
    "from sklearn.neighbors import KNeighborsClassifier\n",
    "from sklearn.neighbors import KernelDensity\n",
    "from sklearn.metrics import accuracy_score, classification_report"
   ]
  },
  {
   "cell_type": "code",
   "execution_count": 86,
   "id": "3d6c5307-c5ab-4f00-a907-1ec7f05529e3",
   "metadata": {},
   "outputs": [],
   "source": [
    "# Function to generate synthetic shape images\n",
    "def generate_shape(shape, size=64):\n",
    "    img = np.zeros((size, size), dtype=np.uint8)\n",
    "    center = (size // 2, size // 2)\n",
    "    if shape == \"circle\":\n",
    "        cv2.circle(img, center, size // 3, 255, -1)\n",
    "    elif shape == \"square\":\n",
    "        cv2.rectangle(img, (size//4, size//4), (3*size//4, 3*size//4), 255, -1)\n",
    "    elif shape == \"triangle\":\n",
    "        pts = np.array([[size//2, size//5], [size//5, 4*size//5], [4*size//5, 4*size//5]], np.int32)\n",
    "        cv2.fillPoly(img, [pts], 255)\n",
    "    return img"
   ]
  },
  {
   "cell_type": "code",
   "execution_count": 88,
   "id": "2c72846e-6d57-443a-a248-304a8a8243ab",
   "metadata": {},
   "outputs": [],
   "source": [
    "# Extract Hu Moments from image\n",
    "def extract_hu_moments (image):\n",
    "    moments = cv2.moments(image)\n",
    "    hu = cv2.HuMoments (moments).flatten()\n",
    "    return -np.sign(hu) * np.log10(np.abs(hu) + 1e-10) # Log transform for stability"
   ]
  },
  {
   "cell_type": "code",
   "execution_count": 90,
   "id": "7e4dfede-7165-4bf2-a2ab-b76de3bea7fc",
   "metadata": {},
   "outputs": [],
   "source": [
    "shapes = [\"circle\", \"square\", \"triangle\"]\n",
    "# Generate dataset\n",
    "def create_dataset(num_samples=100):\n",
    "    X, y = [], []\n",
    "    for i, shape in enumerate (shapes):\n",
    "        for _ in range(num_samples):\n",
    "            img = generate_shape(shape)\n",
    "            X.append(img.flatten())\n",
    "            y.append(i)\n",
    "    return np.array (X), np.array(y)\n",
    "\n",
    "X, y = create_dataset(300)"
   ]
  },
  {
   "cell_type": "code",
   "execution_count": 92,
   "id": "3d0087bf-d981-4b0e-9b40-04787a42c987",
   "metadata": {},
   "outputs": [],
   "source": [
    "X_train, X_test, y_train, y_test = train_test_split(X, y, test_size=0.2, random_state=42)"
   ]
  },
  {
   "cell_type": "code",
   "execution_count": 94,
   "id": "96a45a7d-efc3-441c-9e50-c141c473ac61",
   "metadata": {},
   "outputs": [],
   "source": [
    "# Parzen Window (KDE) Classifier\n",
    "kde_models = []\n",
    "for label in np.unique(y_train):\n",
    "    kde = KernelDensity (kernel='gaussian', bandwidth=8.5)\n",
    "    kde.fit(X_train[y_train == label])\n",
    "    kde_models.append(kde)"
   ]
  },
  {
   "cell_type": "code",
   "execution_count": 96,
   "id": "260c2e29-4ee5-4ad8-be1b-67476834b7b5",
   "metadata": {},
   "outputs": [],
   "source": [
    "# Predict using Parzen KDE\n",
    "log_probs = np.array([kde.score_samples (X_test) for kde in kde_models]).T\n",
    "y_pred_parzen = np.argmax(log_probs, axis=1)"
   ]
  },
  {
   "cell_type": "code",
   "execution_count": 98,
   "id": "4b21de6d-5c8b-4fd3-abb7-1d18d429abb0",
   "metadata": {},
   "outputs": [],
   "source": [
    "#k-NN Classifier\n",
    "knn = KNeighborsClassifier(n_neighbors=3)\n",
    "knn.fit(X_train, y_train)\n",
    "y_pred_knn = knn.predict(X_test)"
   ]
  },
  {
   "cell_type": "code",
   "execution_count": 100,
   "id": "f994f690-0e10-4693-8912-8744197c8014",
   "metadata": {},
   "outputs": [
    {
     "name": "stdout",
     "output_type": "stream",
     "text": [
      "=== Parzen-Window Classifier ===\n",
      "Accuracy: 1.0\n",
      "              precision    recall  f1-score   support\n",
      "\n",
      "      circle       1.00      1.00      1.00        60\n",
      "      square       1.00      1.00      1.00        67\n",
      "    triangle       1.00      1.00      1.00        53\n",
      "\n",
      "    accuracy                           1.00       180\n",
      "   macro avg       1.00      1.00      1.00       180\n",
      "weighted avg       1.00      1.00      1.00       180\n",
      "\n"
     ]
    }
   ],
   "source": [
    "# Evaluation\n",
    "\n",
    "print(\"=== Parzen-Window Classifier ===\")\n",
    "print(\"Accuracy:\", accuracy_score(y_test, y_pred_parzen))\n",
    "print(classification_report(y_test, y_pred_parzen, target_names=shapes))"
   ]
  },
  {
   "cell_type": "code",
   "execution_count": 102,
   "id": "03c0a294-4646-41fe-90a6-3cba60e5a6b2",
   "metadata": {},
   "outputs": [
    {
     "name": "stdout",
     "output_type": "stream",
     "text": [
      "\n",
      "=== k-NN Classifier ===\n",
      "Accuracy: 1.0\n",
      "              precision    recall  f1-score   support\n",
      "\n",
      "      circle       1.00      1.00      1.00        60\n",
      "      square       1.00      1.00      1.00        67\n",
      "    triangle       1.00      1.00      1.00        53\n",
      "\n",
      "    accuracy                           1.00       180\n",
      "   macro avg       1.00      1.00      1.00       180\n",
      "weighted avg       1.00      1.00      1.00       180\n",
      "\n"
     ]
    }
   ],
   "source": [
    "print(\"\\n=== k-NN Classifier ===\")\n",
    "print(\"Accuracy:\", accuracy_score(y_test, y_pred_knn))\n",
    "print(classification_report(y_test, y_pred_knn, target_names=shapes))"
   ]
  },
  {
   "cell_type": "code",
   "execution_count": 104,
   "id": "bf7c6634-8eef-4cf1-8526-5b91e2294f69",
   "metadata": {},
   "outputs": [
    {
     "data": {
      "image/png": "[encoded data removed]",
      "text/plain": [
       "<Figure size 1000x200 with 5 Axes>"
      ]
     },
     "metadata": {},
     "output_type": "display_data"
    },
    {
     "data": {
      "text/plain": [
       "<Figure size 640x480 with 0 Axes>"
      ]
     },
     "metadata": {},
     "output_type": "display_data"
    },
    {
     "data": {
      "text/plain": [
       "<Figure size 640x480 with 0 Axes>"
      ]
     },
     "metadata": {},
     "output_type": "display_data"
    },
    {
     "data": {
      "text/plain": [
       "<Figure size 640x480 with 0 Axes>"
      ]
     },
     "metadata": {},
     "output_type": "display_data"
    },
    {
     "data": {
      "text/plain": [
       "<Figure size 640x480 with 0 Axes>"
      ]
     },
     "metadata": {},
     "output_type": "display_data"
    }
   ],
   "source": [
    "fig, axes = plt.subplots (1, 5, figsize=(10, 2))\n",
    "for i in range(5):\n",
    "    true_label = y_test[i]\n",
    "    pred_label = y_pred_parzen[i]\n",
    "    # Regenerate image from shape Label\n",
    "    shape_name = shapes[true_label]\n",
    "    img = generate_shape(shape_name)\n",
    "\n",
    "    axes[i].imshow(img, cmap=\"gray\")\n",
    "    axes[i].set_title(f\"Pred: {shapes[pred_label]}\")\n",
    "    axes[i].axis(\"off\")\n",
    "    plt.tight_layout()\n",
    "    plt.show()"
   ]
  },
  {
   "cell_type": "code",
   "execution_count": null,
   "id": "9e7ef100-18e7-49a1-9348-ee0b6b31107a",
   "metadata": {},
   "outputs": [],
   "source": []
  }
 ],
 "metadata": {
  "kernelspec": {
   "display_name": "Python [conda env:base] *",
   "language": "python",
   "name": "conda-base-py"
  },
  "language_info": {
   "codemirror_mode": {
    "name": "ipython",
    "version": 3
   },
   "file_extension": ".py",
   "mimetype": "text/x-python",
   "name": "python",
   "nbconvert_exporter": "python",
   "pygments_lexer": "ipython3",
   "version": "3.12.7"
  }
 },
 "nbformat": 4,
 "nbformat_minor": 5
}
