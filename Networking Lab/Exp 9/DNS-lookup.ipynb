{
 "cells": [
  {
   "cell_type": "code",
   "execution_count": 2,
   "metadata": {},
   "outputs": [],
   "source": [
    "import socket"
   ]
  },
  {
   "cell_type": "code",
   "execution_count": 3,
   "metadata": {},
   "outputs": [
    {
     "name": "stdout",
     "output_type": "stream",
     "text": [
      "1.Enter Host Name \n",
      "2.Enter IP address\n",
      "IP address:  103.26.206.183\n",
      "Host name :  www.aissmsioit.org\n",
      "Host name and IP address:  www.aissmsioit.org/103.26.206.183\n"
     ]
    }
   ],
   "source": [
    "def main():\n",
    "    print(\"1.Enter Host Name \\n2.Enter IP address\")\n",
    "    choice = int(input(\"Choice: \"))\n",
    "\n",
    "    if choice == 1:\n",
    "        host = input(\"\\nEnter host name: \")\n",
    "        try:\n",
    "            address = socket.gethostbyname(host)\n",
    "            print(\"IP address: \", address)\n",
    "            print(\"Host name : \", host)\n",
    "            print(\"Host name and IP address: \", f\"{host}/{address}\")\n",
    "        except socket.gaierror:\n",
    "            print(\"Could not find \", host)\n",
    "    elif choice == 2:\n",
    "        host = input(\"\\nEnter IP address: \")\n",
    "        try:\n",
    "            address = socket.gethostbyaddr(host)\n",
    "            print(\"Host name : \", address[0])\n",
    "            print(\"IP address: \", host)\n",
    "            print(\"Host name and IP address: \", f\"{address[0]}/{host}\")\n",
    "        except socket.herror:\n",
    "            print(\"Could not find \", host)\n",
    "    else:\n",
    "        print(\"Invalid choice\")\n",
    "if __name__ == \"__main__\":\n",
    "    main()"
   ]
  },
  {
   "cell_type": "code",
   "execution_count": null,
   "metadata": {},
   "outputs": [],
   "source": []
  }
 ],
 "metadata": {
  "kernelspec": {
   "display_name": "base",
   "language": "python",
   "name": "python3"
  },
  "language_info": {
   "codemirror_mode": {
    "name": "ipython",
    "version": 3
   },
   "file_extension": ".py",
   "mimetype": "text/x-python",
   "name": "python",
   "nbconvert_exporter": "python",
   "pygments_lexer": "ipython3",
   "version": "3.12.4"
  }
 },
 "nbformat": 4,
 "nbformat_minor": 2
}
