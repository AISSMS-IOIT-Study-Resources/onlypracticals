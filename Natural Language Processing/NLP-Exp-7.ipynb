{
 "cells": [
  {
   "cell_type": "markdown",
   "id": "7e4392d4-60e1-4866-bb45-a6a3317a3771",
   "metadata": {},
   "source": [
    "# PS 7\n",
    "# Perform Named Entity Recognition (NER) on a given text."
   ]
  },
  {
   "cell_type": "code",
   "execution_count": 1,
   "id": "378af29c-a678-4d97-b8b6-b10891d53e8c",
   "metadata": {},
   "outputs": [],
   "source": [
    "import spacy\n",
    "from sklearn.metrics import precision_score, recall_score, f1_score"
   ]
  },
  {
   "cell_type": "code",
   "execution_count": 5,
   "id": "c83ef3df-8ed8-434e-b1b8-9a744a5b6594",
   "metadata": {},
   "outputs": [],
   "source": [
    "# Load the pre-trained English NER model\n",
    "nlp = spacy.load(\"en_core_web_sm\")"
   ]
  },
  {
   "cell_type": "code",
   "execution_count": 7,
   "id": "c23c71c6-7128-44a4-856b-f107cba14094",
   "metadata": {},
   "outputs": [],
   "source": [
    "# Sample text for NER\n",
    "text = \"Apple Inc. is looking at buying U.K. startup for $1 billion. Tim Cook is the CEO.\""
   ]
  },
  {
   "cell_type": "code",
   "execution_count": 9,
   "id": "638b56b3-4d34-41e3-aad2-b2f722d13094",
   "metadata": {},
   "outputs": [],
   "source": [
    "# Process the text using the NER model\n",
    "doc = nlp(text)"
   ]
  },
  {
   "cell_type": "code",
   "execution_count": 11,
   "id": "d06622cc-2b7b-4ae1-a84a-f1f0c510d535",
   "metadata": {},
   "outputs": [
    {
     "name": "stdout",
     "output_type": "stream",
     "text": [
      "Named Entities:\n",
      "Apple Inc. (ORG)\n",
      "U.K. (GPE)\n",
      "$1 billion (MONEY)\n",
      "Tim Cook (PERSON)\n"
     ]
    }
   ],
   "source": [
    "# Extract and display named entities\n",
    "print(\"Named Entities:\")\n",
    "for ent in doc.ents:\n",
    "    print(f\"{ent.text} ({ent.label_})\")"
   ]
  },
  {
   "cell_type": "code",
   "execution_count": null,
   "id": "a369f3d3-5cd1-4301-9990-d8eac67de5b3",
   "metadata": {},
   "outputs": [],
   "source": []
  }
 ],
 "metadata": {
  "kernelspec": {
   "display_name": "Python [conda env:base] *",
   "language": "python",
   "name": "conda-base-py"
  },
  "language_info": {
   "codemirror_mode": {
    "name": "ipython",
    "version": 3
   },
   "file_extension": ".py",
   "mimetype": "text/x-python",
   "name": "python",
   "nbconvert_exporter": "python",
   "pygments_lexer": "ipython3",
   "version": "3.12.7"
  }
 },
 "nbformat": 4,
 "nbformat_minor": 5
}
