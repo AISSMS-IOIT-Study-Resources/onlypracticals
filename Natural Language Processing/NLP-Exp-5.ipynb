{
 "cells": [
  {
   "cell_type": "markdown",
   "id": "30602329-c224-447a-88ca-532909547d94",
   "metadata": {},
   "source": [
    "# PS 5\n",
    "# Implement N-Gram model"
   ]
  },
  {
   "cell_type": "code",
   "execution_count": 2,
   "id": "0a7bd573-646e-4360-868a-5510532611af",
   "metadata": {},
   "outputs": [],
   "source": [
    "import nltk\n",
    "from nltk import ngrams\n",
    "from nltk.tokenize import word_tokenize\n",
    "from nltk.probability import FreqDist"
   ]
  },
  {
   "cell_type": "code",
   "execution_count": 10,
   "id": "7ef75372-8394-4764-8bd5-e31e8890b1cd",
   "metadata": {},
   "outputs": [
    {
     "name": "stderr",
     "output_type": "stream",
     "text": [
      "[nltk_data] Downloading package punkt_tab to\n",
      "[nltk_data]     C:\\Users\\PC\\AppData\\Roaming\\nltk_data...\n",
      "[nltk_data]   Unzipping tokenizers\\punkt_tab.zip.\n"
     ]
    },
    {
     "data": {
      "text/plain": [
       "True"
      ]
     },
     "execution_count": 10,
     "metadata": {},
     "output_type": "execute_result"
    }
   ],
   "source": [
    " # Ensure you have the necessary NLTK resources\n",
    " nltk.download('punkt_tab')"
   ]
  },
  {
   "cell_type": "code",
   "execution_count": 14,
   "id": "fad0e70a-321a-416a-9f5c-287e5a10331e",
   "metadata": {},
   "outputs": [],
   "source": [
    "# Sample text\n",
    "text = \"How much wood would a woodchuck chuk could chuk wood,if a woodchuck could chuk wood\""
   ]
  },
  {
   "cell_type": "code",
   "execution_count": 16,
   "id": "f0ff8b3d-f89c-4e67-820f-d685beef481d",
   "metadata": {},
   "outputs": [],
   "source": [
    "# Tokenize the text into words\n",
    "tokens = word_tokenize(text)"
   ]
  },
  {
   "cell_type": "code",
   "execution_count": 18,
   "id": "e15578ff-50ed-4a57-b3f3-7cf5836e5c69",
   "metadata": {},
   "outputs": [],
   "source": [
    "# Create bigrams and trigrams\n",
    "unigram_list = list(ngrams(tokens, 1))\n",
    "bigram_list = list(ngrams(tokens, 2))\n",
    "trigram_list = list(ngrams(tokens, 3))"
   ]
  },
  {
   "cell_type": "code",
   "execution_count": 20,
   "id": "2d19e1d0-eb5d-4f09-999c-3d06578aa3c0",
   "metadata": {},
   "outputs": [],
   "source": [
    "# Calculate frequency distribution for bigrams and trigrams\n",
    "unigram_freq = FreqDist(unigram_list)\n",
    "bigram_freq = FreqDist(bigram_list)\n",
    "trigram_freq = FreqDist(trigram_list)"
   ]
  },
  {
   "cell_type": "code",
   "execution_count": 22,
   "id": "9e06d9b9-1f42-4bc1-8467-d628a104971b",
   "metadata": {},
   "outputs": [
    {
     "name": "stdout",
     "output_type": "stream",
     "text": [
      "Unigrams:\n",
      "('How',): 1\n",
      "('much',): 1\n",
      "('wood',): 3\n",
      "('would',): 1\n",
      "('a',): 2\n",
      "('woodchuck',): 2\n",
      "('chuk',): 3\n",
      "('could',): 2\n",
      "(',',): 1\n",
      "('if',): 1\n",
      "\n",
      "Bigrams:\n",
      "('How', 'much'): 1\n",
      "('much', 'wood'): 1\n",
      "('wood', 'would'): 1\n",
      "('would', 'a'): 1\n",
      "('a', 'woodchuck'): 2\n",
      "('woodchuck', 'chuk'): 1\n",
      "('chuk', 'could'): 1\n",
      "('could', 'chuk'): 2\n",
      "('chuk', 'wood'): 2\n",
      "('wood', ','): 1\n",
      "(',', 'if'): 1\n",
      "('if', 'a'): 1\n",
      "('woodchuck', 'could'): 1\n",
      "\n",
      "Trigrams:\n",
      "('How', 'much', 'wood'): 1\n",
      "('much', 'wood', 'would'): 1\n",
      "('wood', 'would', 'a'): 1\n",
      "('would', 'a', 'woodchuck'): 1\n",
      "('a', 'woodchuck', 'chuk'): 1\n",
      "('woodchuck', 'chuk', 'could'): 1\n",
      "('chuk', 'could', 'chuk'): 1\n",
      "('could', 'chuk', 'wood'): 2\n",
      "('chuk', 'wood', ','): 1\n",
      "('wood', ',', 'if'): 1\n",
      "(',', 'if', 'a'): 1\n",
      "('if', 'a', 'woodchuck'): 1\n",
      "('a', 'woodchuck', 'could'): 1\n",
      "('woodchuck', 'could', 'chuk'): 1\n"
     ]
    }
   ],
   "source": [
    "# Output the frequency of each bigram and trigram\n",
    "print(\"Unigrams:\")\n",
    "for unigram, frequency in unigram_freq.items():\n",
    "    print(f\"{unigram}: {frequency}\")\n",
    "\n",
    "print(\"\\nBigrams:\")\n",
    "for bigram, frequency in bigram_freq.items():\n",
    "    print(f\"{bigram}: {frequency}\")\n",
    "\n",
    "print(\"\\nTrigrams:\")\n",
    "for trigram, frequency in trigram_freq.items():\n",
    "    print(f\"{trigram}: {frequency}\")"
   ]
  },
  {
   "cell_type": "code",
   "execution_count": null,
   "id": "b117d803-520f-4c4e-bcc2-44437fc31c62",
   "metadata": {},
   "outputs": [],
   "source": []
  }
 ],
 "metadata": {
  "kernelspec": {
   "display_name": "Python [conda env:base] *",
   "language": "python",
   "name": "conda-base-py"
  },
  "language_info": {
   "codemirror_mode": {
    "name": "ipython",
    "version": 3
   },
   "file_extension": ".py",
   "mimetype": "text/x-python",
   "name": "python",
   "nbconvert_exporter": "python",
   "pygments_lexer": "ipython3",
   "version": "3.12.7"
  }
 },
 "nbformat": 4,
 "nbformat_minor": 5
}
