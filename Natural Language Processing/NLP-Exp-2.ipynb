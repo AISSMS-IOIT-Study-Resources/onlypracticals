{
 "cells": [
  {
   "cell_type": "markdown",
   "metadata": {},
   "source": [
    "# PS 2\n",
    "# Study and Understand the concepts of Morphology by the use of Add / Delete tables"
   ]
  },
  {
   "cell_type": "code",
   "execution_count": 2,
   "metadata": {},
   "outputs": [],
   "source": [
    "from tabulate import tabulate\n",
    "\n",
    "root_words = [\"play\", \"jump\", \"work\", \"talk\"]\n",
    "modifications = {\n",
    "    \"add\": {\n",
    "        \"play\": [\"-ing\", \"-ed\"],  \n",
    "        \"jump\": [\"-ing\", \"-ed\"],  \n",
    "        \"work\": [\"-ing\", \"-ed\"],  \n",
    "        \"talk\": [\"-ing\", \"-ed\"]   \n",
    "    },\n",
    "    \"delete\": [\"-ing\", \"-ed\"]\n",
    "}"
   ]
  },
  {
   "cell_type": "code",
   "execution_count": 4,
   "metadata": {},
   "outputs": [],
   "source": [
    "# Storing results for tabular display\n",
    "add_results = []\n",
    "delete_results = []"
   ]
  },
  {
   "cell_type": "code",
   "execution_count": 6,
   "metadata": {},
   "outputs": [],
   "source": [
    "\n",
    "# Add operation: Create modified words\n",
    "for root in root_words:\n",
    "    for mod in modifications[\"add\"][root]:\n",
    "        modified_word = root + mod[1:]  # Adding suffix\n",
    "        add_results.append([root, mod, modified_word])\n",
    "\n",
    "# Delete operation: Remove suffixes\n",
    "for root in root_words:\n",
    "    for mod in modifications[\"delete\"]:\n",
    "        modified_word = root + mod[1:]\n",
    "        delete_results.append([modified_word, mod, root])  # Storing valid deletions"
   ]
  },
  {
   "cell_type": "code",
   "execution_count": 8,
   "metadata": {},
   "outputs": [
    {
     "name": "stdout",
     "output_type": "stream",
     "text": [
      "\n",
      "Added Modifications:\n",
      "+-------------+----------------+-----------------+\n",
      "| Root Word   | Modification   | Modified Word   |\n",
      "+=============+================+=================+\n",
      "| play        | -ing           | playing         |\n",
      "+-------------+----------------+-----------------+\n",
      "| play        | -ed            | played          |\n",
      "+-------------+----------------+-----------------+\n",
      "| jump        | -ing           | jumping         |\n",
      "+-------------+----------------+-----------------+\n",
      "| jump        | -ed            | jumped          |\n",
      "+-------------+----------------+-----------------+\n",
      "| work        | -ing           | working         |\n",
      "+-------------+----------------+-----------------+\n",
      "| work        | -ed            | worked          |\n",
      "+-------------+----------------+-----------------+\n",
      "| talk        | -ing           | talking         |\n",
      "+-------------+----------------+-----------------+\n",
      "| talk        | -ed            | talked          |\n",
      "+-------------+----------------+-----------------+\n",
      "\n",
      "Deleted Modifications:\n",
      "+-----------------+----------------+-------------+\n",
      "| Modified Word   | Modification   | Root Word   |\n",
      "+=================+================+=============+\n",
      "| playing         | -ing           | play        |\n",
      "+-----------------+----------------+-------------+\n",
      "| played          | -ed            | play        |\n",
      "+-----------------+----------------+-------------+\n",
      "| jumping         | -ing           | jump        |\n",
      "+-----------------+----------------+-------------+\n",
      "| jumped          | -ed            | jump        |\n",
      "+-----------------+----------------+-------------+\n",
      "| working         | -ing           | work        |\n",
      "+-----------------+----------------+-------------+\n",
      "| worked          | -ed            | work        |\n",
      "+-----------------+----------------+-------------+\n",
      "| talking         | -ing           | talk        |\n",
      "+-----------------+----------------+-------------+\n",
      "| talked          | -ed            | talk        |\n",
      "+-----------------+----------------+-------------+\n"
     ]
    }
   ],
   "source": [
    "# Printing tables\n",
    "print(\"\\nAdded Modifications:\")\n",
    "print(tabulate(add_results, headers=[\"Root Word\", \"Modification\", \"Modified Word\"], tablefmt=\"grid\"))\n",
    "\n",
    "print(\"\\nDeleted Modifications:\")\n",
    "print(tabulate(delete_results, headers=[\"Modified Word\", \"Modification\", \"Root Word\"], tablefmt=\"grid\"))"
   ]
  }
 ],
 "metadata": {
  "kernelspec": {
   "display_name": "Python [conda env:base] *",
   "language": "python",
   "name": "conda-base-py"
  },
  "language_info": {
   "codemirror_mode": {
    "name": "ipython",
    "version": 3
   },
   "file_extension": ".py",
   "mimetype": "text/x-python",
   "name": "python",
   "nbconvert_exporter": "python",
   "pygments_lexer": "ipython3",
   "version": "3.12.7"
  }
 },
 "nbformat": 4,
 "nbformat_minor": 4
}
