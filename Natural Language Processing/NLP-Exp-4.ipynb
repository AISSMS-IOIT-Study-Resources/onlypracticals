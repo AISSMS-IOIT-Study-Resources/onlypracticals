{
 "cells": [
  {
   "cell_type": "markdown",
   "metadata": {},
   "source": [
    "# PS 4\n",
    "# Identifying Semantic Relationships Using WordNet"
   ]
  },
  {
   "cell_type": "code",
   "execution_count": 2,
   "metadata": {},
   "outputs": [
    {
     "name": "stderr",
     "output_type": "stream",
     "text": [
      "[nltk_data] Downloading package wordnet to\n",
      "[nltk_data]     C:\\Users\\PC\\AppData\\Roaming\\nltk_data...\n",
      "[nltk_data] Downloading package omw-1.4 to\n",
      "[nltk_data]     C:\\Users\\PC\\AppData\\Roaming\\nltk_data...\n"
     ]
    },
    {
     "data": {
      "text/plain": [
       "True"
      ]
     },
     "execution_count": 2,
     "metadata": {},
     "output_type": "execute_result"
    }
   ],
   "source": [
    "import nltk\n",
    "from nltk.corpus import wordnet\n",
    "nltk.download('wordnet')\n",
    "nltk.download('omw-1.4')"
   ]
  },
  {
   "cell_type": "code",
   "execution_count": 4,
   "metadata": {},
   "outputs": [],
   "source": [
    "word = \"car\"\n",
    "\n",
    "# Fetch synonyms, antonyms, hypernyms, and hyponyms\n",
    "synonyms = []\n",
    "antonyms = []\n",
    "hypernyms = []\n",
    "hyponyms = []"
   ]
  },
  {
   "cell_type": "code",
   "execution_count": 6,
   "metadata": {},
   "outputs": [],
   "source": [
    "for syn in wordnet.synsets(word):\n",
    "    synonyms.extend(syn.lemma_names())\n",
    "    for lemma in syn.lemmas():\n",
    "        if lemma.antonyms():\n",
    "            antonyms.extend([ant.name() for ant in lemma.antonyms()])\n",
    "    hypernyms.extend(syn.hypernyms())\n",
    "    hyponyms.extend(syn.hyponyms())"
   ]
  },
  {
   "cell_type": "code",
   "execution_count": 8,
   "metadata": {},
   "outputs": [
    {
     "name": "stdout",
     "output_type": "stream",
     "text": [
      "Word: car\n",
      "Synonyms: {'railway_car', 'machine', 'gondola', 'elevator_car', 'cable_car', 'auto', 'railroad_car', 'railcar', 'car', 'motorcar', 'automobile'}\n",
      "Antonyms: set()\n",
      "Hypernyms: ['motor_vehicle', 'wheeled_vehicle', 'compartment', 'compartment', 'compartment']\n",
      "Hyponyms: ['horseless_carriage', 'sport_utility', 'ambulance', 'roadster', 'convertible', 'subcompact', 'touring_car', 'gas_guzzler', 'coupe', 'pace_car', 'beach_wagon', 'stanley_steamer', 'jeep', 'electric', 'loaner', 'minicar', 'compact', 'hot_rod', 'cruiser', 'hatchback', 'sedan', 'stock_car', 'sports_car', 'racer', 'hardtop', 'model_t', 'cab', 'minivan', 'limousine', 'used-car', 'bus', 'passenger_car', 'van', 'baggage_car', 'slip_coach', 'handcar', 'freight_car', 'tender', 'mail_car', 'cabin_car', \"guard's_van\", 'club_car']\n"
     ]
    }
   ],
   "source": [
    "print(f\"Word: {word}\")\n",
    "print(f\"Synonyms: {set(synonyms)}\")\n",
    "print(f\"Antonyms: {set(antonyms)}\")\n",
    "print(f\"Hypernyms: {[hyp.name().split('.')[0] for hyp in hypernyms]}\")\n",
    "print(f\"Hyponyms: {[hyp.name().split('.')[0] for hyp in hyponyms]}\")"
   ]
  },
  {
   "cell_type": "code",
   "execution_count": null,
   "metadata": {},
   "outputs": [],
   "source": []
  }
 ],
 "metadata": {
  "kernelspec": {
   "display_name": "Python [conda env:base] *",
   "language": "python",
   "name": "conda-base-py"
  },
  "language_info": {
   "codemirror_mode": {
    "name": "ipython",
    "version": 3
   },
   "file_extension": ".py",
   "mimetype": "text/x-python",
   "name": "python",
   "nbconvert_exporter": "python",
   "pygments_lexer": "ipython3",
   "version": "3.12.7"
  }
 },
 "nbformat": 4,
 "nbformat_minor": 4
}
