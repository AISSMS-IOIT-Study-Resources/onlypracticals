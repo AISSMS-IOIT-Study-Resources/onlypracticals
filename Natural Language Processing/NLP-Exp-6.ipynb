{
 "cells": [
  {
   "cell_type": "markdown",
   "id": "2c9826aa-6047-47e1-aaa5-303b2a8128b1",
   "metadata": {},
   "source": [
    "# PS 6\n",
    "# Build and evaluate a NER (Named Entitiy Recognition) system using NER libraries"
   ]
  },
  {
   "cell_type": "code",
   "execution_count": 2,
   "id": "8262582d-5e76-4cc2-bd17-5209c38eef5e",
   "metadata": {},
   "outputs": [],
   "source": [
    "import spacy\n",
    "from sklearn.metrics import precision_score, recall_score, f1_score"
   ]
  },
  {
   "cell_type": "code",
   "execution_count": 4,
   "id": "f1364f61-fa15-47c1-9875-0f45969f5186",
   "metadata": {},
   "outputs": [],
   "source": [
    "# Load the pre-trained English NER model\n",
    "nlp = spacy.load(\"en_core_web_sm\")"
   ]
  },
  {
   "cell_type": "code",
   "execution_count": 10,
   "id": "02bf8d8f-01ae-48c5-9308-d75663a21d28",
   "metadata": {},
   "outputs": [],
   "source": [
    "def extract_entities(text):\n",
    "    \"\"\"Extract named entities from the input text using spaCy.\"\"\"\n",
    "    doc = nlp(text)\n",
    "    return [(ent.text, ent.label_) for ent in doc.ents]"
   ]
  },
  {
   "cell_type": "code",
   "execution_count": 14,
   "id": "abcce5a7-092e-4f97-85cc-0215fc8c2592",
   "metadata": {},
   "outputs": [],
   "source": [
    "def evaluate_entities(predicted_entities, true_entities):\n",
    "    \"\"\"Evaluate the predicted entities against the true entities.\"\"\"\n",
    "    # Convert to binary labels (1 if entity found, 0 otherwise)\n",
    "    y_true = [1 if entity in true_entities else 0 for entity in true_entities]\n",
    "    y_pred = [1 if entity in predicted_entities else 0 for entity in true_entities]\n",
    "     # Calculate metrics\n",
    "    precision = precision_score(y_true, y_pred, zero_division=0)\n",
    "    recall = recall_score(y_true, y_pred, zero_division=0)\n",
    "    f1 = f1_score(y_true, y_pred, zero_division=0)\n",
    "    return precision, recall, f1"
   ]
  },
  {
   "cell_type": "code",
   "execution_count": 30,
   "id": "776f2829-809a-4b36-b329-c6fe01370da0",
   "metadata": {},
   "outputs": [
    {
     "name": "stdin",
     "output_type": "stream",
     "text": [
      "Enter text for NER:  Elon Musk is founder of Tesla\n",
      "Enter true entities (comma-separated):  Elon Musk, Tesla\n"
     ]
    }
   ],
   "source": [
    "# Get user input for text and true entities\n",
    "user_input = input(\"Enter text for NER: \")\n",
    "true_entities_input = input(\"Enter true entities (comma-separated): \")"
   ]
  },
  {
   "cell_type": "code",
   "execution_count": 32,
   "id": "9086dfb2-1550-4414-a670-eabc05988de8",
   "metadata": {},
   "outputs": [],
   "source": [
    "# Process the true entities into a list\n",
    "true_entities = [entity.strip() for entity in true_entities_input.split(',')]"
   ]
  },
  {
   "cell_type": "code",
   "execution_count": 34,
   "id": "ccd4580b-2886-4d59-8345-eeb65942bba5",
   "metadata": {},
   "outputs": [],
   "source": [
    "# Extract named entities from user input\n",
    "predicted_entities = extract_entities(user_input)"
   ]
  },
  {
   "cell_type": "code",
   "execution_count": 36,
   "id": "5cd35eec-ef72-4f81-bfab-42190a437922",
   "metadata": {},
   "outputs": [
    {
     "name": "stdout",
     "output_type": "stream",
     "text": [
      "\n",
      "Named Entities:\n",
      "Elon Musk (PERSON)\n",
      "Tesla (ORG)\n"
     ]
    }
   ],
   "source": [
    "# Display extracted named entities\n",
    "print(\"\\nNamed Entities:\")\n",
    "for entity in predicted_entities:\n",
    "    print(f\"{entity[0]} ({entity[1]})\")"
   ]
  },
  {
   "cell_type": "code",
   "execution_count": 38,
   "id": "cf80e9ef-2eca-48e8-8d59-15e6171a2c7d",
   "metadata": {},
   "outputs": [],
   "source": [
    "# Evaluate the extracted entities\n",
    "predicted_entity_texts = [ent[0] for ent in predicted_entities]\n",
    "precision, recall, f1 = evaluate_entities(predicted_entity_texts, true_entities)"
   ]
  },
  {
   "cell_type": "code",
   "execution_count": 40,
   "id": "5810c594-ddaf-4ddf-9456-4f00635305b6",
   "metadata": {},
   "outputs": [
    {
     "name": "stdout",
     "output_type": "stream",
     "text": [
      "\n",
      "Evaluation Metrics:\n",
      "Precision: 1.00\n",
      "Recall: 1.00\n",
      "F1 Score: 1.00\n"
     ]
    }
   ],
   "source": [
    "# Output evaluation metrics\n",
    "print(\"\\nEvaluation Metrics:\")\n",
    "print(f\"Precision: {precision:.2f}\")\n",
    "print(f\"Recall: {recall:.2f}\")\n",
    "print(f\"F1 Score: {f1:.2f}\")"
   ]
  }
 ],
 "metadata": {
  "kernelspec": {
   "display_name": "Python [conda env:base] *",
   "language": "python",
   "name": "conda-base-py"
  },
  "language_info": {
   "codemirror_mode": {
    "name": "ipython",
    "version": 3
   },
   "file_extension": ".py",
   "mimetype": "text/x-python",
   "name": "python",
   "nbconvert_exporter": "python",
   "pygments_lexer": "ipython3",
   "version": "3.12.7"
  }
 },
 "nbformat": 4,
 "nbformat_minor": 5
}
