{
 "cells": [
  {
   "cell_type": "markdown",
   "id": "d95585c2-5fd5-4561-a6eb-84b08a105587",
   "metadata": {},
   "source": [
    "## Self-Organizing Feature Maps (SOFM) for character recognition"
   ]
  },
  {
   "cell_type": "code",
   "execution_count": 1,
   "id": "1b3da394-27f6-42f8-8281-b79fd25b620c",
   "metadata": {},
   "outputs": [],
   "source": [
    "import numpy as np\n",
    "import matplotlib.pyplot as plt"
   ]
  },
  {
   "cell_type": "code",
   "execution_count": 2,
   "id": "3247de79-5800-4725-ba3d-28c45b37caac",
   "metadata": {},
   "outputs": [],
   "source": [
    "characters = {\n",
    "    'A': np.array([[1, 1, 1],\n",
    "                   [1, 0, 1],\n",
    "                   [1, 1, 1]]),\n",
    "    \n",
    "    'B': np.array([[1, 1, 0],\n",
    "                   [1, 1, 0],\n",
    "                   [1, 1, 1]]),\n",
    "    \n",
    "    'C': np.array([[1, 1, 1],\n",
    "                   [1, 0, 0],\n",
    "                   [1, 1, 1]]),\n",
    "    \n",
    "    'D': np.array([[1, 1, 0],\n",
    "                   [1, 1, 0],\n",
    "                   [1, 1, 1]])\n",
    "}"
   ]
  },
  {
   "cell_type": "code",
   "execution_count": 3,
   "id": "6dc4ec4d-619d-42c8-865f-cd52dc1ee37a",
   "metadata": {},
   "outputs": [],
   "source": [
    "data = np.array([char.flatten() for char in characters.values()])\n",
    "labels = list(characters.keys())"
   ]
  },
  {
   "cell_type": "code",
   "execution_count": 4,
   "id": "bb56a144-d08d-422d-acb1-87df6078ba98",
   "metadata": {},
   "outputs": [],
   "source": [
    "class SOM:\n",
    "    def __init__(self, x, y, input_len, learning_rate=0.5, radius=1):\n",
    "        self.x = x\n",
    "        self.y = y\n",
    "        self.input_len = input_len\n",
    "        self.learning_rate = learning_rate\n",
    "        self.radius = radius\n",
    "        \n",
    "        # Initialize weights\n",
    "        self.weights = np.random.rand(x, y, input_len)\n",
    "\n",
    "    def _get_bmu(self, x):\n",
    "        # Calculate the Best Matching Unit (BMU)\n",
    "        bmu_idx = np.argmin(np.linalg.norm(self.weights - x, axis=2))\n",
    "        return divmod(bmu_idx, self.y)\n",
    "\n",
    "    def _neighborhood_function(self, distance):\n",
    "        return np.exp(-distance / (2 * (self.radius ** 2)))\n",
    "\n",
    "    def train(self, data, num_epochs):\n",
    "        for epoch in range(num_epochs):\n",
    "            for x in data:\n",
    "                bmu = self._get_bmu(x)\n",
    "                \n",
    "                # Update weights\n",
    "                for i in range(self.x):\n",
    "                    for j in range(self.y):\n",
    "                        distance = np.linalg.norm(np.array([i, j]) - np.array(bmu))\n",
    "                        if distance <= self.radius:\n",
    "                            # Calculate learning rate based on neighborhood\n",
    "                            learning_rate = self.learning_rate * self._neighborhood_function(distance)\n",
    "                            self.weights[i, j] += learning_rate * (x - self.weights[i, j])\n",
    "    \n",
    "    def predict(self, x):\n",
    "        bmu = self._get_bmu(x)\n",
    "        return bmu\n",
    "\n",
    "    def visualize(self):\n",
    "        # Reshape weights for visualization\n",
    "        weight_images = self.weights.reshape(self.x * self.y, self.input_len)\n",
    "        plt.figure(figsize=(8, 8))\n",
    "        for i in range(weight_images.shape[0]):\n",
    "            plt.subplot(self.x, self.y, i + 1)\n",
    "            plt.imshow(weight_images[i].reshape(3, 3), cmap='gray', vmin=0, vmax=1)\n",
    "            plt.axis('off')\n",
    "        plt.tight_layout()\n",
    "        plt.show()"
   ]
  },
  {
   "cell_type": "code",
   "execution_count": 5,
   "id": "fc04deb9-c908-4067-8736-8c93f0b737af",
   "metadata": {},
   "outputs": [
    {
     "name": "stdout",
     "output_type": "stream",
     "text": [
      "Predicted BMU for character C: (0, 0)\n"
     ]
    },
    {
     "data": {
      "image/png": "[encoded data removed]",
      "text/plain": [
       "<Figure size 800x800 with 9 Axes>"
      ]
     },
     "metadata": {},
     "output_type": "display_data"
    }
   ],
   "source": [
    "som = SOM(x=3, y=3, input_len=9, learning_rate=0.5, radius=1)\n",
    "som.train(data, num_epochs=100)\n",
    "\n",
    "test_char = np.array([[1, 1, 1],\n",
    "                      [1, 0, 0],\n",
    "                      [1, 1, 1]]).flatten()  # 'C'\n",
    "prediction = som.predict(test_char)\n",
    "print(f\"Predicted BMU for character C: {prediction}\")\n",
    "\n",
    "som.visualize()"
   ]
  },
  {
   "cell_type": "code",
   "execution_count": null,
   "id": "01076c5c-a1e8-4e7b-ad97-e699be7b3c89",
   "metadata": {},
   "outputs": [],
   "source": []
  }
 ],
 "metadata": {
  "kernelspec": {
   "display_name": "Python 3 (ipykernel)",
   "language": "python",
   "name": "python3"
  },
  "language_info": {
   "codemirror_mode": {
    "name": "ipython",
    "version": 3
   },
   "file_extension": ".py",
   "mimetype": "text/x-python",
   "name": "python",
   "nbconvert_exporter": "python",
   "pygments_lexer": "ipython3",
   "version": "3.12.4"
  }
 },
 "nbformat": 4,
 "nbformat_minor": 5
}
