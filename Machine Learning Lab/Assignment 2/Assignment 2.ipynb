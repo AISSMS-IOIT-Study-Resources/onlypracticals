{
 "cells": [
  {
   "cell_type": "code",
   "execution_count": 1,
   "id": "29f75844",
   "metadata": {},
   "outputs": [],
   "source": [
    "import matplotlib.pyplot as plt\n",
    "import seaborn as sns\n",
    "import numpy as np\n",
    "import scipy.stats as stats\n",
    "import statistics\n",
    "import math\n",
    "import sys"
   ]
  },
  {
   "cell_type": "code",
   "execution_count": 2,
   "id": "f30eed86",
   "metadata": {},
   "outputs": [],
   "source": [
    "tips = sns.load_dataset('tips')"
   ]
  },
  {
   "cell_type": "code",
   "execution_count": 3,
   "id": "a2b8b9af",
   "metadata": {},
   "outputs": [
    {
     "name": "stdout",
     "output_type": "stream",
     "text": [
      "<class 'pandas.core.frame.DataFrame'>\n",
      "RangeIndex: 244 entries, 0 to 243\n",
      "Data columns (total 7 columns):\n",
      " #   Column      Non-Null Count  Dtype   \n",
      "---  ------      --------------  -----   \n",
      " 0   total_bill  244 non-null    float64 \n",
      " 1   tip         244 non-null    float64 \n",
      " 2   sex         244 non-null    category\n",
      " 3   smoker      244 non-null    category\n",
      " 4   day         244 non-null    category\n",
      " 5   time        244 non-null    category\n",
      " 6   size        244 non-null    int64   \n",
      "dtypes: category(4), float64(2), int64(1)\n",
      "memory usage: 7.4 KB\n"
     ]
    }
   ],
   "source": [
    "tips.info()"
   ]
  },
  {
   "cell_type": "code",
   "execution_count": 4,
   "id": "6aff2180",
   "metadata": {},
   "outputs": [
    {
     "data": {
      "text/html": [
       "<div>\n",
       "<style scoped>\n",
       "    .dataframe tbody tr th:only-of-type {\n",
       "        vertical-align: middle;\n",
       "    }\n",
       "\n",
       "    .dataframe tbody tr th {\n",
       "        vertical-align: top;\n",
       "    }\n",
       "\n",
       "    .dataframe thead th {\n",
       "        text-align: right;\n",
       "    }\n",
       "</style>\n",
       "<table border=\"1\" class=\"dataframe\">\n",
       "  <thead>\n",
       "    <tr style=\"text-align: right;\">\n",
       "      <th></th>\n",
       "      <th>total_bill</th>\n",
       "      <th>tip</th>\n",
       "      <th>sex</th>\n",
       "      <th>smoker</th>\n",
       "      <th>day</th>\n",
       "      <th>time</th>\n",
       "      <th>size</th>\n",
       "    </tr>\n",
       "  </thead>\n",
       "  <tbody>\n",
       "    <tr>\n",
       "      <th>0</th>\n",
       "      <td>16.99</td>\n",
       "      <td>1.01</td>\n",
       "      <td>Female</td>\n",
       "      <td>No</td>\n",
       "      <td>Sun</td>\n",
       "      <td>Dinner</td>\n",
       "      <td>2</td>\n",
       "    </tr>\n",
       "    <tr>\n",
       "      <th>1</th>\n",
       "      <td>10.34</td>\n",
       "      <td>1.66</td>\n",
       "      <td>Male</td>\n",
       "      <td>No</td>\n",
       "      <td>Sun</td>\n",
       "      <td>Dinner</td>\n",
       "      <td>3</td>\n",
       "    </tr>\n",
       "    <tr>\n",
       "      <th>2</th>\n",
       "      <td>21.01</td>\n",
       "      <td>3.50</td>\n",
       "      <td>Male</td>\n",
       "      <td>No</td>\n",
       "      <td>Sun</td>\n",
       "      <td>Dinner</td>\n",
       "      <td>3</td>\n",
       "    </tr>\n",
       "    <tr>\n",
       "      <th>3</th>\n",
       "      <td>23.68</td>\n",
       "      <td>3.31</td>\n",
       "      <td>Male</td>\n",
       "      <td>No</td>\n",
       "      <td>Sun</td>\n",
       "      <td>Dinner</td>\n",
       "      <td>2</td>\n",
       "    </tr>\n",
       "    <tr>\n",
       "      <th>4</th>\n",
       "      <td>24.59</td>\n",
       "      <td>3.61</td>\n",
       "      <td>Female</td>\n",
       "      <td>No</td>\n",
       "      <td>Sun</td>\n",
       "      <td>Dinner</td>\n",
       "      <td>4</td>\n",
       "    </tr>\n",
       "  </tbody>\n",
       "</table>\n",
       "</div>"
      ],
      "text/plain": [
       "   total_bill   tip     sex smoker  day    time  size\n",
       "0       16.99  1.01  Female     No  Sun  Dinner     2\n",
       "1       10.34  1.66    Male     No  Sun  Dinner     3\n",
       "2       21.01  3.50    Male     No  Sun  Dinner     3\n",
       "3       23.68  3.31    Male     No  Sun  Dinner     2\n",
       "4       24.59  3.61  Female     No  Sun  Dinner     4"
      ]
     },
     "execution_count": 4,
     "metadata": {},
     "output_type": "execute_result"
    }
   ],
   "source": [
    "tips.head()"
   ]
  },
  {
   "cell_type": "markdown",
   "id": "cf906f61",
   "metadata": {},
   "source": [
    "### Using statistics library"
   ]
  },
  {
   "cell_type": "code",
   "execution_count": 5,
   "id": "915ba3ee",
   "metadata": {},
   "outputs": [
    {
     "name": "stdout",
     "output_type": "stream",
     "text": [
      "Mean total bill: 19.79\n",
      "Median total bill: 17.80\n",
      "Standard deviation of total bill: 8.90\n"
     ]
    }
   ],
   "source": [
    "total_bill_mean = statistics.mean(tips['total_bill'])\n",
    "total_bill_median = statistics.median(tips['total_bill'])\n",
    "total_bill_std_dev = statistics.stdev(tips['total_bill'])\n",
    "print(f\"Mean total bill: {total_bill_mean:.2f}\")\n",
    "print(f\"Median total bill: {total_bill_median:.2f}\")\n",
    "print(f\"Standard deviation of total bill: {total_bill_std_dev:.2f}\")"
   ]
  },
  {
   "cell_type": "markdown",
   "id": "fcd35c70",
   "metadata": {},
   "source": [
    "### Using math library"
   ]
  },
  {
   "cell_type": "code",
   "execution_count": 6,
   "id": "7e7954cc",
   "metadata": {},
   "outputs": [
    {
     "name": "stdout",
     "output_type": "stream",
     "text": [
      "Enter a no. to find its square-root: 25\n",
      "Square root of 25: 5.0\n"
     ]
    }
   ],
   "source": [
    "num = int(input(\"Enter a no. to find its square-root: \"))\n",
    "sqr = math.sqrt(num)\n",
    "print(f\"Square root of {num}: {sqr}\")"
   ]
  },
  {
   "cell_type": "markdown",
   "id": "3b22c430",
   "metadata": {},
   "source": [
    "### Using numpy library"
   ]
  },
  {
   "cell_type": "code",
   "execution_count": 7,
   "id": "e746d014",
   "metadata": {},
   "outputs": [
    {
     "name": "stdout",
     "output_type": "stream",
     "text": [
      "First 5 entries of total bill squared:\n",
      "0    288.6601\n",
      "1    106.9156\n",
      "2    441.4201\n",
      "3    560.7424\n",
      "4    604.6681\n",
      "Name: total_bill_squared, dtype: float64\n"
     ]
    }
   ],
   "source": [
    "tips['total_bill_squared'] = np.square(tips['total_bill'])\n",
    "print(\"First 5 entries of total bill squared:\")\n",
    "print(tips['total_bill_squared'].head())"
   ]
  },
  {
   "cell_type": "markdown",
   "id": "c2593512",
   "metadata": {},
   "source": [
    "### Using sys library"
   ]
  },
  {
   "cell_type": "code",
   "execution_count": 8,
   "id": "ebd42412",
   "metadata": {},
   "outputs": [
    {
     "name": "stdout",
     "output_type": "stream",
     "text": [
      "System information:\n",
      "Python version: 3.9.12 (main, Apr  4 2022, 05:22:27) [MSC v.1916 64 bit (AMD64)]\n",
      "Maximum integer size on this system: 9223372036854775807\n"
     ]
    }
   ],
   "source": [
    "print(\"System information:\")\n",
    "print(f\"Python version: {sys.version}\")\n",
    "print(f\"Maximum integer size on this system: {sys.maxsize}\")"
   ]
  },
  {
   "cell_type": "markdown",
   "id": "075d6fcf",
   "metadata": {},
   "source": [
    "### Using Scipy library for t-test"
   ]
  },
  {
   "cell_type": "code",
   "execution_count": 12,
   "id": "02f47793",
   "metadata": {},
   "outputs": [
    {
     "name": "stdout",
     "output_type": "stream",
     "text": [
      "T-statistic: 1.3384363834700073\n",
      "P-value: 0.1820103288430244\n",
      "Fail to reject the null hypothesis. There is no significant difference between groups.\n"
     ]
    }
   ],
   "source": [
    "smoker_yes = tips[tips['smoker'] == 'Yes']['total_bill']\n",
    "smoker_no = tips[tips['smoker'] == 'No']['total_bill']\n",
    "\n",
    "t_statistic, p_value = stats.ttest_ind(smoker_yes, smoker_no)\n",
    "\n",
    "print(\"T-statistic:\", t_statistic)\n",
    "print(\"P-value:\", p_value)\n",
    "\n",
    "alpha = 0.05\n",
    "\n",
    "if p_value < alpha:\n",
    "    print(\"Reject the null hypothesis. There is a significant difference between groups.\")\n",
    "else:\n",
    "    print(\"Fail to reject the null hypothesis. There is no significant difference between groups.\")"
   ]
  },
  {
   "cell_type": "markdown",
   "id": "7d6aafd0",
   "metadata": {},
   "source": [
    "### Using Seaborn library for visualization"
   ]
  },
  {
   "cell_type": "code",
   "execution_count": 10,
   "id": "25b10570",
   "metadata": {},
   "outputs": [
    {
     "data": {
      "image/png": "[encoded data removed]",
      "text/plain": [
       "<Figure size 432x288 with 1 Axes>"
      ]
     },
     "metadata": {},
     "output_type": "display_data"
    }
   ],
   "source": [
    "sns.set(style=\"whitegrid\")\n",
    "sns.scatterplot(x='total_bill', y='tip', data=tips)\n",
    "sns.despine()"
   ]
  },
  {
   "cell_type": "code",
   "execution_count": null,
   "id": "2dd2cdcb",
   "metadata": {},
   "outputs": [],
   "source": []
  }
 ],
 "metadata": {
  "kernelspec": {
   "display_name": "Python 3 (ipykernel)",
   "language": "python",
   "name": "python3"
  },
  "language_info": {
   "codemirror_mode": {
    "name": "ipython",
    "version": 3
   },
   "file_extension": ".py",
   "mimetype": "text/x-python",
   "name": "python",
   "nbconvert_exporter": "python",
   "pygments_lexer": "ipython3",
   "version": "3.9.12"
  }
 },
 "nbformat": 4,
 "nbformat_minor": 5
}
