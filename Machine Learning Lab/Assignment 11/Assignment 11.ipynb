{
 "cells": [
  {
   "cell_type": "markdown",
   "id": "3734df20-5270-4a81-aa03-c66add772451",
   "metadata": {},
   "source": [
    "### Implement the finite words classification system using Back-propagation algorithm"
   ]
  },
  {
   "cell_type": "code",
   "execution_count": 1,
   "id": "6c00c130-2b29-4a75-b94a-bd37e6a55653",
   "metadata": {},
   "outputs": [],
   "source": [
    "import numpy as np"
   ]
  },
  {
   "cell_type": "code",
   "execution_count": 2,
   "id": "5f2f4982-7649-47e8-aea2-f6dbb4e3b5e3",
   "metadata": {},
   "outputs": [],
   "source": [
    "words = ['clustering', 'classification', 'neuralnetwork', 'supervisedlearning']\n",
    "labels = np.array([[1, 0],  \n",
    "                   [1, 0],  \n",
    "                   [0, 1],  \n",
    "                   [0, 1]]) "
   ]
  },
  {
   "cell_type": "code",
   "execution_count": 3,
   "id": "4a2fac0b-2c61-4cd4-bec5-56d76e7ef3c5",
   "metadata": {},
   "outputs": [],
   "source": [
    "def encode_word(word):\n",
    "    encoding = np.zeros((26,))\n",
    "    for char in word:\n",
    "        if char.isalpha():\n",
    "            encoding[ord(char) - ord('a')] = 1\n",
    "    return encoding"
   ]
  },
  {
   "cell_type": "code",
   "execution_count": 4,
   "id": "d36750ce-4c17-4963-97af-17b835393ce8",
   "metadata": {},
   "outputs": [],
   "source": [
    "encoded_words = np.array([encode_word(word) for word in words])"
   ]
  },
  {
   "cell_type": "code",
   "execution_count": 5,
   "id": "ca372e72-467f-4f11-aedf-6a46618d42a3",
   "metadata": {},
   "outputs": [],
   "source": [
    "class NeuralNetwork:\n",
    "    def __init__(self, input_size, hidden_size, output_size, learning_rate):\n",
    "        self.learning_rate = learning_rate\n",
    "        # Weights initialization\n",
    "        self.W1 = np.random.rand(input_size, hidden_size)\n",
    "        self.b1 = np.zeros((1, hidden_size))\n",
    "        self.W2 = np.random.rand(hidden_size, output_size)\n",
    "        self.b2 = np.zeros((1, output_size))\n",
    "    \n",
    "    def sigmoid(self, x):\n",
    "        return 1 / (1 + np.exp(-x))\n",
    "    \n",
    "    def sigmoid_derivative(self, x):\n",
    "        return x * (1 - x)\n",
    "\n",
    "    def forward(self, X):\n",
    "        self.z1 = np.dot(X, self.W1) + self.b1\n",
    "        self.a1 = self.sigmoid(self.z1)\n",
    "        self.z2 = np.dot(self.a1, self.W2) + self.b2\n",
    "        self.a2 = self.sigmoid(self.z2)\n",
    "        return self.a2\n",
    "    \n",
    "    def backward(self, X, y):\n",
    "        output_error = y - self.a2\n",
    "        output_delta = output_error * self.sigmoid_derivative(self.a2)\n",
    "        \n",
    "        hidden_error = output_delta.dot(self.W2.T)\n",
    "        hidden_delta = hidden_error * self.sigmoid_derivative(self.a1)\n",
    "        \n",
    "        # Update weights and biases\n",
    "        self.W2 += self.a1.T.dot(output_delta) * self.learning_rate\n",
    "        self.b2 += np.sum(output_delta, axis=0, keepdims=True) * self.learning_rate\n",
    "        self.W1 += X.T.dot(hidden_delta) * self.learning_rate\n",
    "        self.b1 += np.sum(hidden_delta, axis=0, keepdims=True) * self.learning_rate\n",
    "\n",
    "    def train(self, X, y, epochs):\n",
    "        for _ in range(epochs):\n",
    "            self.forward(X)\n",
    "            self.backward(X, y)\n",
    "\n",
    "    def predict(self, X):\n",
    "        output = self.forward(X)\n",
    "        return np.argmax(output, axis=1)"
   ]
  },
  {
   "cell_type": "code",
   "execution_count": 6,
   "id": "fb64e576-08e3-4858-86fb-13a6e8c69227",
   "metadata": {},
   "outputs": [],
   "source": [
    "input_size = 26 \n",
    "hidden_size = 5  \n",
    "output_size = 2  \n",
    "learning_rate = 0.1\n",
    "epochs = 10000"
   ]
  },
  {
   "cell_type": "code",
   "execution_count": 7,
   "id": "ea10ee95-0b14-4d2e-b826-4c9cb48977d0",
   "metadata": {},
   "outputs": [],
   "source": [
    "nn = NeuralNetwork(input_size, hidden_size, output_size, learning_rate)\n",
    "nn.train(encoded_words, labels, epochs)"
   ]
  },
  {
   "cell_type": "code",
   "execution_count": 8,
   "id": "02d8c377-7f30-4be4-8edc-54ec2fe63f46",
   "metadata": {},
   "outputs": [],
   "source": [
    "test_words = ['cat', 'classification', 'neuralnetwork', 'supervisedlearning']\n",
    "encoded_test_words = np.array([encode_word(word) for word in test_words])\n",
    "predictions = nn.predict(encoded_test_words)"
   ]
  },
  {
   "cell_type": "code",
   "execution_count": 9,
   "id": "1b90afb7-c689-4112-a063-af5586e79a4f",
   "metadata": {},
   "outputs": [
    {
     "name": "stdout",
     "output_type": "stream",
     "text": [
      "Word: cat, Predicted Class: 0\n",
      "Word: classification, Predicted Class: 0\n",
      "Word: neuralnetwork, Predicted Class: 1\n",
      "Word: supervisedlearning, Predicted Class: 1\n"
     ]
    }
   ],
   "source": [
    "for word, pred in zip(test_words, predictions):\n",
    "    print(f\"Word: {word}, Predicted Class: {pred}\")"
   ]
  },
  {
   "cell_type": "code",
   "execution_count": null,
   "id": "f81cfa18-3933-45f5-b558-247743796ae7",
   "metadata": {},
   "outputs": [],
   "source": []
  }
 ],
 "metadata": {
  "kernelspec": {
   "display_name": "Python 3 (ipykernel)",
   "language": "python",
   "name": "python3"
  },
  "language_info": {
   "codemirror_mode": {
    "name": "ipython",
    "version": 3
   },
   "file_extension": ".py",
   "mimetype": "text/x-python",
   "name": "python",
   "nbconvert_exporter": "python",
   "pygments_lexer": "ipython3",
   "version": "3.12.4"
  }
 },
 "nbformat": 4,
 "nbformat_minor": 5
}
